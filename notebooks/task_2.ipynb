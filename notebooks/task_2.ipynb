{
 "cells": [
  {
   "cell_type": "code",
   "execution_count": 1,
   "metadata": {},
   "outputs": [],
   "source": [
    "import os\n",
    "\n",
    "if \"README.md\" not in os.listdir():\n",
    "    os.chdir(\"../\")"
   ]
  },
  {
   "cell_type": "code",
   "execution_count": 2,
   "metadata": {},
   "outputs": [
    {
     "name": "stderr",
     "output_type": "stream",
     "text": [
      "/tmp/ipykernel_672073/2151348226.py:4: TqdmExperimentalWarning: Using `tqdm.autonotebook.tqdm` in notebook mode. Use `tqdm.tqdm` instead to force console mode (e.g. in jupyter console)\n",
      "  from tqdm.autonotebook import tqdm\n"
     ]
    }
   ],
   "source": [
    "from typing import Optional, List\n",
    "\n",
    "from llama_cpp import Llama\n",
    "from tqdm.autonotebook import tqdm\n",
    "from pydantic import BaseModel, Field\n",
    "from langchain import PromptTemplate\n",
    "from huggingface_hub import hf_hub_download\n",
    "from langchain.text_splitter import RecursiveCharacterTextSplitter\n",
    "from langchain.output_parsers import YamlOutputParser\n",
    "\n",
    "\n",
    "model_path = hf_hub_download(\n",
    "    repo_id=\"VlSav/Vikhr-Nemo-12B-Instruct-R-21-09-24-Q4_K_M-GGUF\",\n",
    "    filename=\"vikhr-nemo-12b-instruct-r-21-09-24-q4_k_m.gguf\",\n",
    "    local_dir=\"./models\",\n",
    ")"
   ]
  },
  {
   "cell_type": "markdown",
   "metadata": {},
   "source": [
    "При выполнении задания не будут использованы цепи langchain, потому что langchain_community.llms.LlamaCpp криво обрабатывает промпты для VlSav/Vikhr-Nemo-12B-Instruct, что снижает качество генерации. Кроме того, ChatPromptTemplate не содержит роли documents, на которой специально обучался [Vikhr-Nemo-12B-Instruct](https://huggingface.co/Vikhrmodels/Vikhr-Nemo-12B-Instruct-R-21-09-24)"
   ]
  },
  {
   "cell_type": "code",
   "execution_count": 3,
   "metadata": {},
   "outputs": [
    {
     "name": "stderr",
     "output_type": "stream",
     "text": [
      "llama_init_from_model: n_ctx_per_seq (2048) < n_ctx_train (1024000) -- the full capacity of the model will not be utilized\n"
     ]
    }
   ],
   "source": [
    "llm = Llama(\n",
    "    model_path=model_path, max_tokens=2048, n_gpu_layers=-1, n_ctx=2048, verbose=False\n",
    ")"
   ]
  },
  {
   "cell_type": "code",
   "execution_count": 4,
   "metadata": {},
   "outputs": [],
   "source": [
    "def create_chat(documents, user_message):\n",
    "    return [\n",
    "        {\n",
    "            \"role\": \"system\",\n",
    "            \"content\": \"Ты специалист по анализу договоров. Твоя задача проанализировать договор по инструкции пользователя.\",\n",
    "        },\n",
    "        {\"role\": \"documents\", \"content\": documents},\n",
    "        {\"role\": \"user\", \"content\": user_message},\n",
    "    ]\n",
    "\n",
    "\n",
    "def generate(documents, user_message):\n",
    "    return llm.create_chat_completion(\n",
    "        create_chat(documents, user_message), temperature=0.2, seed=10\n",
    "    )[\"choices\"][0][\"message\"][\"content\"]"
   ]
  },
  {
   "cell_type": "code",
   "execution_count": 5,
   "metadata": {},
   "outputs": [
    {
     "data": {
      "text/plain": [
       "'Это риторический вопрос, который не имеет однозначного ответа, так как предпочтения в еде субъективны и зависят от личных вкусов каждого человека. Оба продукта имеют свои преимущества и могут быть полезны в различных кулинарных контекстах.'"
      ]
     },
     "execution_count": 5,
     "metadata": {},
     "output_type": "execute_result"
    }
   ],
   "source": [
    "generate(\"\", \"Лучше биба или боба?\")"
   ]
  },
  {
   "cell_type": "code",
   "execution_count": 6,
   "metadata": {},
   "outputs": [
    {
     "data": {
      "text/plain": [
       "17"
      ]
     },
     "execution_count": 6,
     "metadata": {},
     "output_type": "execute_result"
    }
   ],
   "source": [
    "with open(\"./data/raw/dkp.txt\", \"r\", encoding=\"utf-8\") as f:\n",
    "    doc = f.read()\n",
    "\n",
    "# Используем сплиттер для разделения по нумерованным пунктам\n",
    "splitter = RecursiveCharacterTextSplitter(\n",
    "    separators=[r\"\\d+\\.\\s\"],\n",
    "    chunk_size=500,\n",
    "    chunk_overlap=50,\n",
    "    keep_separator=True,\n",
    "    is_separator_regex=True,\n",
    ")\n",
    "\n",
    "chunks = splitter.split_text(doc)\n",
    "len(chunks)"
   ]
  },
  {
   "cell_type": "markdown",
   "metadata": {},
   "source": [
    "Задача будет решаться следующим образом:\n",
    "- сначало определяем какая информация содержится в части текста:\n",
    "    - стороны договора\n",
    "    - о юридическом лице, долю которого передают по договору\n",
    "    - договорная стоимость\n",
    "    - номинальная стоимость\n",
    "    - показатель доли\n",
    "\n",
    "- в дальнейшем для каждого типа информации будет свой промпт\n",
    "\n",
    "\n",
    "Использование отдельных промптов для разных видов информации упростит отладку промптов и приведет к меньшему количеству ошибок при работе llm.\n",
    "\n",
    "\n",
    "Результат будет выводится в формате yaml, потому что при генерации yaml разметки, ошибок меньше, чем при генерации json."
   ]
  },
  {
   "cell_type": "code",
   "execution_count": 7,
   "metadata": {},
   "outputs": [
    {
     "name": "stdout",
     "output_type": "stream",
     "text": [
      "В представленной части договора содержится информация о юридическом лице, долю в уставном капитале которого планируется передать. Следовательно, эта часть относится к теме 'subject'.\n",
      "\n",
      "```yaml\n",
      "answer:\n",
      "  - subject\n",
      "```\n"
     ]
    },
    {
     "data": {
      "text/plain": [
       "ClassifierScheme(answer=['subject'])"
      ]
     },
     "execution_count": 7,
     "metadata": {},
     "output_type": "execute_result"
    }
   ],
   "source": [
    "class ClassifierScheme(BaseModel):\n",
    "    answer: Optional[List[str]] = Field(default=\"\")\n",
    "\n",
    "\n",
    "prompt_classifier = \"\"\"Тебе передана небольшая часть договора купли продажи:\n",
    "\n",
    " Укажи какая тема содержится в рассматриваемой части:\n",
    "- Информация о сторонах договора (продавце или покупателе): \n",
    "    - ФИО стороны (если это физическое лицо), ее название (если это юридическое лицо)\n",
    "    - ИНН\n",
    "    - ОГРН\n",
    "    - адрес.\n",
    "  Такую информацию обозначай как 'parties'. Если указано только ФИО или название юридического лица, то не указывай эту тему в ответе.\n",
    "- Предмет юридического лица. Информация о юридическом лице, долю которого передают по договору.\n",
    "  Чтобы часть договора была отнесена к этой теме, она обязательно должна содержать ВСЮ следующую информацию о юридическом лице:\n",
    "  - наименование\n",
    "  - ИНН\n",
    "  - ОГРН\n",
    "  - КПП\n",
    "  - адрес\n",
    "  Такую информацию обозначай как 'subject'. Если из всех перечисленных данных указано только наименование юридического лица, то не указывай эту тему в ответе.\n",
    "- Договорная стоимость - это реальная стоимость отчуждаемой доли, за которую стороны договорились произвести отчуждение.\n",
    "  Такую информацию обозначай как 'contract_cost'.\n",
    "- Номинальная стоимость - реальная стоимость отчуждаемой доли, за которую стороны договорились произвести отчуждение. Должен быть указан явно указана стоимость доли!\n",
    "  Такую информацию обозначай как 'nom_cost'.\n",
    "- Показатель доли. Это размер отчуждаемой доли. Должен быть указан явно указан размер отчуждаемой доли!\n",
    "  Такую информацию обозначай как 'fraction'.\n",
    "\n",
    "Учти, что часть договора может содержать несколько тем. Тогда надо будет указать на наличие их всех. Если ничего ни одна из указанных тем не раскрыта, то просто отвечай пустым списком, таким образом - answer: [].\n",
    "Перед ответом напиши своим рассуждения.\n",
    "\n",
    "Ниже пример ответа:\n",
    "```yaml\n",
    "    answer:\n",
    "      - parties\n",
    "      - fraction\n",
    "```\n",
    "\n",
    "{format_instructions}\n",
    "\"\"\"\n",
    "\n",
    "parser_classifier = YamlOutputParser(pydantic_object=ClassifierScheme)\n",
    "\n",
    "prompt_classifier = (\n",
    "    PromptTemplate(\n",
    "        template=prompt_classifier,\n",
    "        partial_variables={\n",
    "            \"format_instructions\": parser_classifier.get_format_instructions(),\n",
    "        },\n",
    "    )\n",
    "    .format_prompt()\n",
    "    .text\n",
    ")\n",
    "\n",
    "text = generate(chunks[1], prompt_classifier)\n",
    "print(text)\n",
    "parser_classifier.parse(text)"
   ]
  },
  {
   "cell_type": "code",
   "execution_count": 8,
   "metadata": {},
   "outputs": [
    {
     "data": {
      "text/plain": [
       "'2. \\xa0\\xa0\\xa0Размер отчуждаемой доли в уставном капитале ОБЩЕСТВА С ОГРАНИЧЕННОЙ ОТВЕТСТВЕННОСТЬЮ \"КОМИНТЕРН\" составляет 100% (сто процентов), номинальной стоимостью 10000 (десять тысяч) рублей 00 копеек. Отчуждаемая доля полностью оплачена Продавцом на момент подписания настоящего договора, что подтверждается: Справкой № б/н, выданной ОБЩЕСТВОМ С ОГРАНИЧЕННОЙ ОТВЕТСТВЕННОСТЬЮ \"КОМИНТЕРН\" 01 декабря 2020 года.'"
      ]
     },
     "execution_count": 8,
     "metadata": {},
     "output_type": "execute_result"
    }
   ],
   "source": [
    "chunks[2]"
   ]
  },
  {
   "cell_type": "code",
   "execution_count": 9,
   "metadata": {},
   "outputs": [
    {
     "name": "stdout",
     "output_type": "stream",
     "text": [
      "```yaml\n",
      "seller:\n",
      "  name: \"Троцкий Лев Давидович\"\n",
      "  passport: \"1234567890\"\n",
      "  address:\n",
      "    country: \"Российская Федерация\"\n",
      "    state: \"Москва\"\n",
      "    locality: \"Москва\"\n",
      "    street: \"\"\n",
      "    house: \"\"\n",
      "\n",
      "buyer:\n",
      "  name: \"Бухарин Николай Иванович\"\n",
      "  passport: \"0987654321\"\n",
      "  address:\n",
      "    country: \"Российская Федерация\"\n",
      "    state: \"Москва\"\n",
      "    locality: \"Москва\"\n",
      "    street: \"\"\n",
      "    house: \"\"\n",
      "```\n"
     ]
    },
    {
     "data": {
      "text/plain": [
       "PartiesScheme(seller=Party(name='Троцкий Лев Давидович', passport='1234567890', inn='', ogrn='', address=Address(country='Российская Федерация', state='Москва', locality='Москва', street='', house='')), buyer=Party(name='Бухарин Николай Иванович', passport='0987654321', inn='', ogrn='', address=Address(country='Российская Федерация', state='Москва', locality='Москва', street='', house='')))"
      ]
     },
     "execution_count": 9,
     "metadata": {},
     "output_type": "execute_result"
    }
   ],
   "source": [
    "class Address(BaseModel):\n",
    "    country: Optional[str] = Field(default=\"\")\n",
    "    state: Optional[str] = Field(default=\"\")\n",
    "    locality: Optional[str] = Field(default=\"\")\n",
    "    street: Optional[str] = Field(default=\"\")\n",
    "    house: Optional[str] = Field(default=\"\")\n",
    "\n",
    "\n",
    "class Party(BaseModel):\n",
    "    name: Optional[str] = Field(default=\"\")\n",
    "    passport: Optional[str] = Field(default=\"\")\n",
    "    inn: Optional[str] = Field(default=\"\")\n",
    "    ogrn: Optional[str] = Field(default=\"\")\n",
    "    address: Optional[Address] = Field(default_factory=Address)\n",
    "\n",
    "\n",
    "class PartiesScheme(BaseModel):\n",
    "    seller: Optional[Party] = Field(default_factory=Party)\n",
    "    buyer: Optional[Party] = Field(default_factory=Party)\n",
    "\n",
    "\n",
    "prompt_parties = \"\"\"\n",
    "Тебе передана небольшая часть договора купли продажи. Твоя задача определить в этой части информацию о сторонах договора (продавце и покупателе).\n",
    "К этой информации относится:\n",
    "  - <сторона сделки значение может быть только seller (Продавец) или buyer (Покупатель):\n",
    "    - name // ФИО стороны (если это физическое лицо), ее название (если это юридическое лицо). Пиши в именительном падеже.\n",
    "    - passport // Серия и номер паспорта. Написать необходимо слитно единой последовательностью. Например: '1111111111'. Запись должна быть в кавычках.\n",
    "    - inn // ИНН, это индивидуальный номер налогоплательщика, состоит только из цифр. Для физических лиц состоит из 12 цифр, для юридических из 10 цифр.\n",
    "    - ogrn // ОГРН, это основной государственный регистрационный номер, состоит только из цифр. Состоит из 13 цифр.\n",
    "    - address: // указывай адрес места жительства для физического лица, адрес регистрации юридического лица.\n",
    "      - country // страна места. Всегда пиши полное наименование. Например, не \"Россия\", а \"Российская Федерация\"\n",
    "      - state // область, край, субъект.\n",
    "      - locality // населенный пункт. Пиши только название населенного пункта, без его типа. Например, не \"г. Москва\", а \"Москва\".\n",
    "      - street // улица\n",
    "      - house // дом\n",
    "\n",
    "Если информации нет, то просто пиши пустую строку \"\".\n",
    "\n",
    "Учитывай, что Москва - это и субъект и населенный пункт, то есть если locality \"Москва\", то и state \"Москва\".\n",
    "\n",
    "Сгенерируй yaml документ с описанием продавца и покупателя. Перед генерацией можешь написать свои рассуждения если необходимо.\n",
    "\n",
    "{format_instructions}\n",
    "\"\"\"\n",
    "parties_parser = YamlOutputParser(pydantic_object=PartiesScheme)\n",
    "\n",
    "prompt_parties = (\n",
    "    PromptTemplate(\n",
    "        template=prompt_parties,\n",
    "        partial_variables={\n",
    "            \"format_instructions\": parties_parser.get_format_instructions(),\n",
    "        },\n",
    "    )\n",
    "    .format_prompt()\n",
    "    .text\n",
    ")\n",
    "\n",
    "text = generate(chunks[0], prompt_parties)\n",
    "print(text)\n",
    "parties_parser.parse(text)"
   ]
  },
  {
   "cell_type": "code",
   "execution_count": 10,
   "metadata": {},
   "outputs": [
    {
     "data": {
      "text/plain": [
       "'12 АА 3456789 ДОГОВОР КУПЛИ-ПРОДАЖИ ДОЛИ В УСТАВНОМ КАПИТАЛЕ ОБЩЕСТВА Город Москва Первое декабря две тысячи десятого года Мы, Троцкий Лев Давидович, 01 декабря 1950 года рождения, место рождения: гор. Москва, гражданство: Российской Федерации, пол: мужской, паспорт 12 34 567890, именуемый в дальнейшем «Продавец» с одной стороны, и Бухарин Николай Иванович, 01 апреля 1990 года рождения, место рождения: гор. Москва, гражданство: Российской Федерации, пол: мужской, паспорт 0987 654321, именуемый в дальнейшем «Покупатель», с другой стороны, заключили настоящий договор о нижеследующем: '"
      ]
     },
     "execution_count": 10,
     "metadata": {},
     "output_type": "execute_result"
    }
   ],
   "source": [
    "chunks[0]"
   ]
  },
  {
   "cell_type": "code",
   "execution_count": 11,
   "metadata": {},
   "outputs": [
    {
     "name": "stdout",
     "output_type": "stream",
     "text": [
      "На основе предоставленной информации, можно определить следующее:\n",
      "\n",
      "- Наименование юридического лица: ОБЩЕСТВО С ОГРАНИЧЕННОЙ ОТВЕТСТВЕННОСТЬЮ \"КОМИНТЕРН\"\n",
      "- ИНН: 1234567890\n",
      "- ОГРН: 1234567890123\n",
      "- Адрес регистрации: страна - Российская Федерация, субъект и населенный пункт - Москва, улица Ленина, дом № 1.\n",
      "\n",
      "Теперь сгенерируем YAML документ с учетом указанных требований:\n",
      "\n",
      "```yaml\n",
      "name: \"ОБЩЕСТВО С ОГРАНИЧЕННОЙ ОТВЕТСТВЕННОСТЬЮ КОМИНТЕРН\"\n",
      "inn: \"1234567890\"\n",
      "ogrn: \"1234567890123\"\n",
      "address:\n",
      "  country: \"Российская Федерация\"\n",
      "  state: \"Москва\"\n",
      "  locality: \"Москва\"\n",
      "  street: \"Ленина\"\n",
      "  house: \"1\"\n",
      "```\n"
     ]
    },
    {
     "data": {
      "text/plain": [
       "SubjectScheme(name='ОБЩЕСТВО С ОГРАНИЧЕННОЙ ОТВЕТСТВЕННОСТЬЮ КОМИНТЕРН', inn='1234567890', ogrn='1234567890123', address=Address(country='Российская Федерация', state='Москва', locality='Москва', street='Ленина', house='1'))"
      ]
     },
     "execution_count": 11,
     "metadata": {},
     "output_type": "execute_result"
    }
   ],
   "source": [
    "class SubjectScheme(BaseModel):\n",
    "    name: Optional[str] = Field(default=\"\")\n",
    "    inn: Optional[str] = Field(default=\"\")\n",
    "    ogrn: Optional[str] = Field(default=\"\")\n",
    "    address: Optional[Address] = Field(default_factory=Address)\n",
    "\n",
    "\n",
    "prompt_subject = \"\"\"\n",
    "Тебе передана небольшая часть договора купли продажи. Твоя задача определить в этой части информацию о юридическом лице, долю которого передают по договору.\n",
    "К этой информации относится:\n",
    "    - name // Наименование юридического лица. Пиши в именительном падеже.\n",
    "    - inn // ИНН, это индивидуальный номер налогоплательщика, состоит только из цифр. Для юридических из 10 цифр.\n",
    "    - ogrn // ОГРН, это основной государственный регистрационный номер, состоит только из цифр. Состоит из 13 цифр.\n",
    "    - address: // адрес регистрации юридического лица\n",
    "        - country // страна места. Всегда пиши полное наименование. Например, не \"Россия\", а \"Российская Федерация\".git/FETCH_HEAD\n",
    "        - state // область, край, субъект.\n",
    "        - locality // населенный пункт\n",
    "        - street // улица\n",
    "        - house // дом\n",
    "\n",
    "Если информации нет, то просто пиши пустую строку \"\".\n",
    "\n",
    "Учитывай, что Москва - это и субъект и населенный пункт, то есть если locality \"Москва\", то и state \"Москва\".\n",
    "\n",
    "Сгенерируй yaml документ с ответом. Перед генерацией можешь написать свои рассуждения если необходимо.\n",
    "\n",
    "{format_instructions}\n",
    "\"\"\"\n",
    "\n",
    "subject_parser = YamlOutputParser(pydantic_object=SubjectScheme)\n",
    "\n",
    "prompt_subject = (\n",
    "    PromptTemplate(\n",
    "        template=prompt_subject,\n",
    "        partial_variables={\n",
    "            \"format_instructions\": subject_parser.get_format_instructions(),\n",
    "        },\n",
    "    )\n",
    "    .format_prompt()\n",
    "    .text\n",
    ")\n",
    "text = generate(chunks[1], prompt_subject)\n",
    "print(text)\n",
    "subject_parser.parse(text)"
   ]
  },
  {
   "cell_type": "code",
   "execution_count": 12,
   "metadata": {},
   "outputs": [
    {
     "name": "stdout",
     "output_type": "stream",
     "text": [
      "В предоставленной части договора указано, что договорная стоимость отчуждаемой доли составляет 50000 (пятьдесят тысяч) рублей 50 копеек. Следовательно, договорная стоимость в формате X…X,YY будет \"50000.50\".\n",
      "\n",
      "```yaml\n",
      "cost: \"50000.50\"\n",
      "```\n"
     ]
    },
    {
     "data": {
      "text/plain": [
       "ContractCostScheme(cost='50000.50')"
      ]
     },
     "execution_count": 12,
     "metadata": {},
     "output_type": "execute_result"
    }
   ],
   "source": [
    "class ContractCostScheme(BaseModel):\n",
    "    cost: Optional[str] = Field(default=\"\")\n",
    "\n",
    "\n",
    "prompt_contract_cost = \"\"\"\n",
    "Тебе передана небольшая часть договора купли продажи юридического лица. Твоя задача определить в этой части информацию о договорной стоимости.\n",
    "\n",
    "Договорная стоимость – это реальная стоимость отчуждаемой доли, за которую стороны договорились произвести отчуждение. \n",
    "Необходимо, чтобы ответ был преобразован в следующий формат: X…X,YY. Где X - рубль, Y – копейка.\n",
    "Результат заключай в кавычки, например \"1000.10\".\n",
    "\n",
    "Если информации нет, то просто пиши пустую строку \"\".\n",
    "\n",
    "Сгенерируй yaml документ с ответом. Перед генерацией можешь написать свои рассуждения если необходимо.\n",
    "\n",
    "Пример ответа: \n",
    "cost: \"100.00\"\n",
    "\n",
    "{format_instructions}\n",
    "\"\"\"\n",
    "\n",
    "contract_cost_parser = YamlOutputParser(pydantic_object=ContractCostScheme)\n",
    "\n",
    "prompt_contract_cost = (\n",
    "    PromptTemplate(\n",
    "        template=prompt_contract_cost,\n",
    "        partial_variables={\n",
    "            \"format_instructions\": contract_cost_parser.get_format_instructions(),\n",
    "        },\n",
    "    )\n",
    "    .format_prompt()\n",
    "    .text\n",
    ")\n",
    "text = generate(chunks[4], prompt_contract_cost)\n",
    "print(text)\n",
    "contract_cost_parser.parse(text)"
   ]
  },
  {
   "cell_type": "code",
   "execution_count": 13,
   "metadata": {},
   "outputs": [
    {
     "name": "stdout",
     "output_type": "stream",
     "text": [
      "На основе предоставленной части договора, номинальная стоимость отчуждаемой доли в уставном капитале составляет 10000 рублей 00 копеек. Следовательно, в формате X…X,YY это будет \"10000.00\".\n",
      "\n",
      "Теперь сгенерируем YAML документ с ответом:\n",
      "\n",
      "```yaml\n",
      "cost: \"10000.00\"\n",
      "```\n"
     ]
    },
    {
     "data": {
      "text/plain": [
       "NomCostScheme(cost='10000.00')"
      ]
     },
     "execution_count": 13,
     "metadata": {},
     "output_type": "execute_result"
    }
   ],
   "source": [
    "class NomCostScheme(BaseModel):\n",
    "    cost: Optional[str] = Field(default=\"\")\n",
    "\n",
    "\n",
    "prompt_nom_cost = \"\"\"\n",
    "Тебе передана небольшая часть договора купли продажи юридического лица. Твоя задача определить в этой части информацию о номинальной стоимости.\n",
    "\n",
    "Номинальная стоимость – это номинальная стоимость отчуждаемой доли в уставном капитале. \n",
    "Необходимо, чтобы ответ был преобразован следующий формат: X…X,YY. Где X - рубль, Y – копейка.\n",
    "Результат заключай в кавычки, например \"1000.10\".\n",
    "\n",
    "Если информации нет, то просто пиши пустую строку \"\".\n",
    "\n",
    "Сгенерируй yaml документ с ответом. Перед генерацией можешь написать свои рассуждения если необходимо.\n",
    "\n",
    "Пример ответа: \n",
    "cost: \"100.00\"\n",
    "\n",
    "\n",
    "\n",
    "{format_instructions}\n",
    "\"\"\"\n",
    "\n",
    "\n",
    "nom_cost_parser = YamlOutputParser(pydantic_object=NomCostScheme)\n",
    "\n",
    "prompt_nom_cost = (\n",
    "    PromptTemplate(\n",
    "        template=prompt_nom_cost,\n",
    "        partial_variables={\n",
    "            \"format_instructions\": nom_cost_parser.get_format_instructions(),\n",
    "        },\n",
    "    )\n",
    "    .format_prompt()\n",
    "    .text\n",
    ")\n",
    "text = generate(chunks[2], prompt_nom_cost)\n",
    "print(text)\n",
    "nom_cost_parser.parse(text)"
   ]
  },
  {
   "cell_type": "code",
   "execution_count": 16,
   "metadata": {},
   "outputs": [
    {
     "name": "stdout",
     "output_type": "stream",
     "text": [
      "Для начала определим размер отчуждаемой доли в уставном капитале компании. Согласно предоставленной информации, размер доли составляет 100% от уставного капитала. Это означает, что вся компания продается целиком.\n",
      "\n",
      "Теперь вычислим показатель доли, который равен размеру отчуждаемой доли, деленной на 100% (или 1 в десятичном выражении), так как вся доля продается, показатель будет равен 1.\n",
      "\n",
      "```yaml\n",
      "fraction: \"1.000000\"\n",
      "```\n"
     ]
    },
    {
     "data": {
      "text/plain": [
       "FractionScheme(fraction='1.000000')"
      ]
     },
     "execution_count": 16,
     "metadata": {},
     "output_type": "execute_result"
    }
   ],
   "source": [
    "class FractionScheme(BaseModel):\n",
    "    fraction: Optional[str] = Field(default=\"\")\n",
    "\n",
    "\n",
    "prompt_fraction = \"\"\"\n",
    "Тебе передана небольшая часть договора купли продажи юридического лица. Твоя задача определить в этой части информацию о показатели доли.\n",
    "    Показатель доли – это размер отчуждаемой доли / части доли в уставном капитале.\n",
    "    Необходимо, чтобы ответ был преобразован в следующий формат: указывается значение без знаков и пробелов, дробная часть отделяется запятой, округление производится до 6 знаков после запятой.\n",
    "    Максимальный размер доли это 1, минимальный 0. Результат заключай в кавычки, например \"1.000000\".\n",
    "\n",
    "\n",
    "Если информации нет, то просто пиши пустую строку \"\".\n",
    "\n",
    "Сгенерируй yaml документ с ответом. Перед генерацией можешь написать свои рассуждения если необходимо.\n",
    "\n",
    "{format_instructions}\n",
    "\"\"\"\n",
    "\n",
    "\n",
    "fraction_parser = YamlOutputParser(pydantic_object=FractionScheme)\n",
    "\n",
    "prompt_fraction = (\n",
    "    PromptTemplate(\n",
    "        template=prompt_fraction,\n",
    "        partial_variables={\n",
    "            \"format_instructions\": fraction_parser.get_format_instructions(),\n",
    "        },\n",
    "    )\n",
    "    .format_prompt()\n",
    "    .text\n",
    ")\n",
    "text = generate(chunks[2], prompt_fraction)\n",
    "print(text)\n",
    "fraction_parser.parse(text)"
   ]
  },
  {
   "cell_type": "code",
   "execution_count": 17,
   "metadata": {},
   "outputs": [],
   "source": [
    "prom = {\n",
    "    \"classifier\": (prompt_classifier, parser_classifier),\n",
    "    \"parties\": (prompt_parties, parties_parser),\n",
    "    \"subject\": (prompt_subject, subject_parser),\n",
    "    \"contract_cost\": (prompt_contract_cost, contract_cost_parser),\n",
    "    \"nom_cost\": (prompt_nom_cost, nom_cost_parser),\n",
    "    \"fraction\": (prompt_fraction, fraction_parser),\n",
    "}"
   ]
  },
  {
   "cell_type": "code",
   "execution_count": 18,
   "metadata": {},
   "outputs": [
    {
     "data": {
      "application/vnd.jupyter.widget-view+json": {
       "model_id": "80d39fbf13d14635aafbffa8c434ab65",
       "version_major": 2,
       "version_minor": 0
      },
      "text/plain": [
       "  0%|          | 0/17 [00:00<?, ?it/s]"
      ]
     },
     "metadata": {},
     "output_type": "display_data"
    }
   ],
   "source": [
    "res = []\n",
    "\n",
    "for chunk in tqdm(chunks):\n",
    "    (prompt, parser) = prom[\"classifier\"]\n",
    "    text = generate(chunk, prompt)\n",
    "    tags = parser.parse(text).answer\n",
    "    for tag in tags:\n",
    "        (prompt, parser) = prom[tag]\n",
    "        text = generate(chunk, prompt)\n",
    "        res.append(parser.parse(text))"
   ]
  },
  {
   "cell_type": "markdown",
   "metadata": {},
   "source": [
    "### Постобработка"
   ]
  },
  {
   "cell_type": "markdown",
   "metadata": {},
   "source": [
    "Объеденим результаты в единный json"
   ]
  },
  {
   "cell_type": "code",
   "execution_count": 19,
   "metadata": {},
   "outputs": [
    {
     "data": {
      "text/plain": [
       "{__main__.PartiesScheme: 'parties',\n",
       " __main__.SubjectScheme: 'subject',\n",
       " __main__.ContractCostScheme: 'contract_cost',\n",
       " __main__.NomCostScheme: 'nom_cost',\n",
       " __main__.FractionScheme: 'fraction'}"
      ]
     },
     "execution_count": 19,
     "metadata": {},
     "output_type": "execute_result"
    }
   ],
   "source": [
    "postprocessing_keys = {\n",
    "    PartiesScheme: \"parties\",\n",
    "    SubjectScheme: \"subject\",\n",
    "    ContractCostScheme: \"contract_cost\",\n",
    "    NomCostScheme: \"nom_cost\",\n",
    "    FractionScheme: \"fraction\",\n",
    "}\n",
    "postprocessing_keys"
   ]
  },
  {
   "cell_type": "code",
   "execution_count": 20,
   "metadata": {},
   "outputs": [],
   "source": [
    "def recursive_update_dict(updatable_dict, update):\n",
    "    \"\"\"\n",
    "    Функция для рекурсивного обновления словаря.\n",
    "    \"\"\"\n",
    "    for key, value in update.items():\n",
    "        if key not in updatable_dict:\n",
    "            updatable_dict[key] = value\n",
    "        elif not value:\n",
    "            continue\n",
    "        elif type(value) == dict:\n",
    "            recursive_update_dict(value, updatable_dict[key])\n",
    "        else:\n",
    "            updatable_dict[key] = value"
   ]
  },
  {
   "cell_type": "code",
   "execution_count": 21,
   "metadata": {},
   "outputs": [
    {
     "name": "stderr",
     "output_type": "stream",
     "text": [
      "/tmp/ipykernel_672073/314838402.py:3: PydanticDeprecatedSince20: The `dict` method is deprecated; use `model_dump` instead. Deprecated in Pydantic V2.0 to be removed in V3.0. See Pydantic V2 Migration Guide at https://errors.pydantic.dev/2.10/migration/\n",
      "  json = i.dict()\n"
     ]
    }
   ],
   "source": [
    "final_result = {}\n",
    "for i in res:\n",
    "    json = i.dict()\n",
    "    key_final = postprocessing_keys[type(i)]\n",
    "\n",
    "    if key_final not in final_result:\n",
    "        final_result[key_final] = json\n",
    "    else:\n",
    "        recursive_update_dict(final_result[key_final], json)"
   ]
  },
  {
   "cell_type": "code",
   "execution_count": 22,
   "metadata": {},
   "outputs": [
    {
     "name": "stdout",
     "output_type": "stream",
     "text": [
      "Общий результат парсинга:\n"
     ]
    },
    {
     "data": {
      "text/plain": [
       "{'parties': {'seller': {'name': 'Троцкий Лев Давидович',\n",
       "   'passport': '1234567890',\n",
       "   'inn': '',\n",
       "   'ogrn': '',\n",
       "   'address': {'country': 'Российская Федерация',\n",
       "    'state': 'Москва',\n",
       "    'locality': 'Москва',\n",
       "    'street': '',\n",
       "    'house': ''}},\n",
       "  'buyer': {'name': 'Бухарин Николай Иванович',\n",
       "   'passport': '0987654321',\n",
       "   'inn': '',\n",
       "   'ogrn': '',\n",
       "   'address': {'country': 'Российская Федерация',\n",
       "    'state': 'Москва',\n",
       "    'locality': 'Москва',\n",
       "    'street': '',\n",
       "    'house': ''}}},\n",
       " 'subject': {'name': 'ОБЩЕСТВО С ОГРАНИЧЕННОЙ ОТВЕТСТВЕННОСТЬЮ КОМИНТЕРН',\n",
       "  'inn': '1234567890',\n",
       "  'ogrn': '1234567890123',\n",
       "  'address': {'country': 'Российская Федерация',\n",
       "   'state': 'Москва',\n",
       "   'locality': 'Москва',\n",
       "   'street': 'Ленина',\n",
       "   'house': '1'}},\n",
       " 'fraction': {'fraction': '1.000000'},\n",
       " 'nom_cost': {'cost': '10000.00'},\n",
       " 'contract_cost': {'cost': '50000.50'}}"
      ]
     },
     "execution_count": 22,
     "metadata": {},
     "output_type": "execute_result"
    }
   ],
   "source": [
    "print(\"Общий результат парсинга:\")\n",
    "final_result"
   ]
  },
  {
   "cell_type": "markdown",
   "metadata": {},
   "source": [
    "Мной поверх ТЗ была добавлена еще задача парсинга паспортных данных (номера и серии) сторон сделки, потому что они чаще упоминаются в договорах, чем инн"
   ]
  }
 ],
 "metadata": {
  "kernelspec": {
   "display_name": ".venv",
   "language": "python",
   "name": "python3"
  },
  "language_info": {
   "codemirror_mode": {
    "name": "ipython",
    "version": 3
   },
   "file_extension": ".py",
   "mimetype": "text/x-python",
   "name": "python",
   "nbconvert_exporter": "python",
   "pygments_lexer": "ipython3",
   "version": "3.12.8"
  }
 },
 "nbformat": 4,
 "nbformat_minor": 2
}
